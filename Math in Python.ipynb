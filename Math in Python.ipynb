{
 "cells": [
  {
   "metadata": {},
   "cell_type": "markdown",
   "source": "# Adding\n",
   "id": "4289e4d07a8bfd80"
  },
  {
   "metadata": {},
   "cell_type": "markdown",
   "source": "Adding integers",
   "id": "750cfed0ce4c77ab"
  },
  {
   "metadata": {
    "ExecuteTime": {
     "end_time": "2025-07-21T09:46:18.212868Z",
     "start_time": "2025-07-21T09:46:18.208178Z"
    }
   },
   "cell_type": "code",
   "source": "1 + 1",
   "id": "1065bce077ac5008",
   "outputs": [
    {
     "data": {
      "text/plain": [
       "3"
      ]
     },
     "execution_count": 4,
     "metadata": {},
     "output_type": "execute_result"
    }
   ],
   "execution_count": 4
  },
  {
   "metadata": {},
   "cell_type": "markdown",
   "source": "Adding Floats",
   "id": "8da49956182378ab"
  },
  {
   "metadata": {
    "ExecuteTime": {
     "end_time": "2025-07-21T09:45:20.458899Z",
     "start_time": "2025-07-21T09:45:20.454110Z"
    }
   },
   "cell_type": "code",
   "source": "1.0 + 1.0",
   "id": "7b3497dad60f7018",
   "outputs": [
    {
     "data": {
      "text/plain": [
       "2.0"
      ]
     },
     "execution_count": 3,
     "metadata": {},
     "output_type": "execute_result"
    }
   ],
   "execution_count": 3
  },
  {
   "metadata": {},
   "cell_type": "markdown",
   "source": "Adding intergers and floats",
   "id": "2772381e520975ca"
  },
  {
   "metadata": {},
   "cell_type": "code",
   "outputs": [],
   "execution_count": null,
   "source": "1.0 + 1",
   "id": "d5e022a31f844f2e"
  },
  {
   "metadata": {},
   "cell_type": "markdown",
   "source": "Adding Complex numbers",
   "id": "c11db0013a24eb13"
  },
  {
   "metadata": {
    "ExecuteTime": {
     "end_time": "2025-07-21T09:53:17.639002Z",
     "start_time": "2025-07-21T09:53:17.633003Z"
    }
   },
   "cell_type": "code",
   "source": "2 + 3j + 2 + -1j",
   "id": "81802c1217a7d429",
   "outputs": [
    {
     "data": {
      "text/plain": [
       "(4+2j)"
      ]
     },
     "execution_count": 7,
     "metadata": {},
     "output_type": "execute_result"
    }
   ],
   "execution_count": 7
  },
  {
   "metadata": {},
   "cell_type": "code",
   "outputs": [],
   "execution_count": null,
   "source": "",
   "id": "5c37599d4d807684"
  },
  {
   "metadata": {},
   "cell_type": "markdown",
   "source": "# Equations",
   "id": "a4baf47d3171db1a"
  },
  {
   "metadata": {},
   "cell_type": "markdown",
   "source": "Pythagorian Therom",
   "id": "54d1b388d3b205"
  },
  {
   "metadata": {},
   "cell_type": "code",
   "outputs": [],
   "execution_count": null,
   "source": [
    "a = input()\n",
    "b = input()\n",
    "c = input()\n"
   ],
   "id": "8b12bd2b904cf940"
  },
  {
   "metadata": {},
   "cell_type": "code",
   "outputs": [],
   "execution_count": null,
   "source": "",
   "id": "1809d84c7443799b"
  }
 ],
 "metadata": {
  "kernelspec": {
   "display_name": "Python 3",
   "language": "python",
   "name": "python3"
  },
  "language_info": {
   "codemirror_mode": {
    "name": "ipython",
    "version": 2
   },
   "file_extension": ".py",
   "mimetype": "text/x-python",
   "name": "python",
   "nbconvert_exporter": "python",
   "pygments_lexer": "ipython2",
   "version": "2.7.6"
  }
 },
 "nbformat": 4,
 "nbformat_minor": 5
}
