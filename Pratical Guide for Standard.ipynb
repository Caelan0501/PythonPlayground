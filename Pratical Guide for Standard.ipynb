{
 "cells": [
  {
   "metadata": {},
   "cell_type": "markdown",
   "source": "# Primitive Data Types",
   "id": "ec8c9938f09b11d5"
  },
  {
   "metadata": {
    "ExecuteTime": {
     "end_time": "2025-07-21T09:55:43.860736Z",
     "start_time": "2025-07-21T09:55:43.855828Z"
    }
   },
   "cell_type": "code",
   "source": [
    "True\n",
    "False"
   ],
   "id": "bc333fcdb0854861",
   "outputs": [
    {
     "data": {
      "text/plain": [
       "False"
      ]
     },
     "execution_count": 3,
     "metadata": {},
     "output_type": "execute_result"
    }
   ],
   "execution_count": 3
  }
 ],
 "metadata": {
  "kernelspec": {
   "display_name": "Python 3",
   "language": "python",
   "name": "python3"
  },
  "language_info": {
   "codemirror_mode": {
    "name": "ipython",
    "version": 2
   },
   "file_extension": ".py",
   "mimetype": "text/x-python",
   "name": "python",
   "nbconvert_exporter": "python",
   "pygments_lexer": "ipython2",
   "version": "2.7.6"
  }
 },
 "nbformat": 4,
 "nbformat_minor": 5
}
