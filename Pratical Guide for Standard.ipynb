{
 "cells": [
  {
   "metadata": {},
   "cell_type": "markdown",
   "source": "# Primitive Data Types",
   "id": "ec8c9938f09b11d5"
  },
  {
   "metadata": {
    "ExecuteTime": {
     "end_time": "2025-07-28T20:08:01.586079Z",
     "start_time": "2025-07-28T20:08:01.583943Z"
    }
   },
   "cell_type": "code",
   "source": "",
   "id": "bc333fcdb0854861",
   "outputs": [],
   "execution_count": null
  },
  {
   "metadata": {},
   "cell_type": "markdown",
   "source": "# Data Structures",
   "id": "9094b79ca090098a"
  },
  {
   "metadata": {},
   "cell_type": "markdown",
   "source": "## Lists",
   "id": "58087fb087533a71"
  },
  {
   "metadata": {},
   "cell_type": "markdown",
   "source": "Declarations",
   "id": "184fbee2016d67fd"
  },
  {
   "metadata": {},
   "cell_type": "code",
   "source": [
    "listEmpty = []\n",
    "listA = [1, 2, 3, 4, 5]\n",
    "listMixed = [1, \"Hello\", 3.14, True]\n",
    "multiDimentionalList = [[1, 2], [3, 4]]"
   ],
   "id": "8677bd0a8f307f50",
   "outputs": [],
   "execution_count": null
  },
  {
   "metadata": {},
   "cell_type": "markdown",
   "source": "Accessing",
   "id": "9bc11ac3ef4beb64"
  },
  {
   "metadata": {},
   "cell_type": "code",
   "source": [
    "print(listA[0])\n",
    "print(listA[1])\n",
    "print(listA[-1])\n",
    "print(multiDimentionalList[0][0])"
   ],
   "id": "33fa8e050c93b09b",
   "outputs": [],
   "execution_count": null
  },
  {
   "metadata": {},
   "cell_type": "markdown",
   "source": "Spliting Lists\n",
   "id": "e2364381efce71f2"
  },
  {
   "metadata": {},
   "cell_type": "code",
   "source": [
    "print(listA[1:4])\n",
    "print(listA[:4])\n",
    "print(listA[::2])"
   ],
   "id": "258076511ab5e5c1",
   "outputs": [],
   "execution_count": null
  },
  {
   "metadata": {},
   "cell_type": "markdown",
   "source": "Adding and Removing Elements",
   "id": "7b2ea6ecb4e78754"
  },
  {
   "metadata": {},
   "cell_type": "code",
   "source": [
    "listB = [6, 7, 8, 9]\n",
    "print(\"ListA: \" + str(listA))\n",
    "print(\"ListB: \" + str(listB))\n",
    "print()\n",
    "\n",
    "listB.append(10)\n",
    "print(\"ListB: \" + str(listB))\n",
    "\n",
    "listB.remove(10)\n",
    "print(\"ListB: \" + str(listB))\n",
    "\n",
    "listB.insert(3, 999)\n",
    "print(\"ListB: \" + str(listB))\n",
    "\n",
    "print(\"Popped: \" + str(listB.pop(3)))\n",
    "print(\"ListB: \" + str(listB))\n",
    "\n",
    "listA.extend(listB)\n",
    "print(\"ListA: \" + str(listA))\n",
    "\n",
    "listA.clear()\n",
    "print(\"ListA: \" + str(listA))"
   ],
   "id": "129e30a3f1f742f0",
   "outputs": [],
   "execution_count": null
  },
  {
   "metadata": {},
   "cell_type": "markdown",
   "source": "Manipulation",
   "id": "8e05b5cf7a7a1c86"
  },
  {
   "metadata": {},
   "cell_type": "code",
   "source": [
    "listC = [1, 2, 3, 4, 5, 6, 7, 8, 9]\n",
    "\n",
    "print(str(listC.index(6)))\n",
    "\n",
    "listC.reverse()\n",
    "print(\"ListC: \" + str(listC))\n",
    "\n",
    "listC.sort()\n",
    "print(\"ListC: \" + str(listC))\n",
    "print()\n",
    "print()\n",
    "listD = listC.copy()\n",
    "print(\"ListC: \" + str(listC))\n",
    "print(\"ListD: \" + str(listD))\n",
    "print()\n",
    "listD.pop()\n",
    "print(\"ListC: \" + str(listC))\n",
    "print(\"ListD: \" + str(listD))\n",
    "\n",
    "listD = listC + listD\n",
    "print(\"3s in ListD: \" + str(listD.count(3)))\n"
   ],
   "id": "af2425c5405608dc",
   "outputs": [],
   "execution_count": null
  },
  {
   "metadata": {},
   "cell_type": "markdown",
   "source": "## Tuples",
   "id": "76d19a0616ba905b"
  },
  {
   "metadata": {},
   "cell_type": "code",
   "source": "",
   "id": "303e766f1de16736",
   "outputs": [],
   "execution_count": null
  },
  {
   "metadata": {},
   "cell_type": "markdown",
   "source": "## Dictionaries",
   "id": "c7a126061d11a8bf"
  },
  {
   "metadata": {},
   "cell_type": "code",
   "source": "",
   "id": "fefb05d62468760c",
   "outputs": [],
   "execution_count": null
  },
  {
   "metadata": {},
   "cell_type": "markdown",
   "source": "## Sets",
   "id": "fbcd980cf459631f"
  },
  {
   "metadata": {},
   "cell_type": "code",
   "source": "",
   "id": "82b829639e402610",
   "outputs": [],
   "execution_count": null
  }
 ],
 "metadata": {
  "kernelspec": {
   "display_name": "Python 3",
   "language": "python",
   "name": "python3"
  },
  "language_info": {
   "codemirror_mode": {
    "name": "ipython",
    "version": 2
   },
   "file_extension": ".py",
   "mimetype": "text/x-python",
   "name": "python",
   "nbconvert_exporter": "python",
   "pygments_lexer": "ipython2",
   "version": "2.7.6"
  }
 },
 "nbformat": 4,
 "nbformat_minor": 5
}
