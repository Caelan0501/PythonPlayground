{
 "cells": [
  {
   "metadata": {},
   "cell_type": "markdown",
   "source": "# Primitive Data Types",
   "id": "ec8c9938f09b11d5"
  },
  {
   "metadata": {},
   "cell_type": "code",
   "source": "",
   "id": "bc333fcdb0854861",
   "outputs": [],
   "execution_count": null
  },
  {
   "metadata": {},
   "cell_type": "markdown",
   "source": "# Data Structures",
   "id": "9094b79ca090098a"
  },
  {
   "metadata": {},
   "cell_type": "markdown",
   "source": "## Lists",
   "id": "58087fb087533a71"
  },
  {
   "metadata": {},
   "cell_type": "markdown",
   "source": "Declarations",
   "id": "184fbee2016d67fd"
  },
  {
   "metadata": {},
   "cell_type": "code",
   "source": [
    "emptyList = []\n",
    "list = [1, 2, 3, 4, 5]\n",
    "mixedList = [1, \"Hello\", 3.14, True]\n",
    "multidimensionalList = [[1, 2], [3, 4]]"
   ],
   "id": "8677bd0a8f307f50",
   "outputs": [],
   "execution_count": null
  },
  {
   "metadata": {},
   "cell_type": "markdown",
   "source": "Accessing",
   "id": "9bc11ac3ef4beb64"
  },
  {
   "metadata": {},
   "cell_type": "code",
   "source": [
    "list = [1, 2, 3]\n",
    "print(\"Index 0: \" + str(list[0]))\n",
    "print(\"Index 1: \" + str(list[1]))\n",
    "print(\"Index -1: \" + str(list[-1]))\n",
    "\n",
    "multidimensionalList = [[1, 2], [3, 4]]\n",
    "print(\"Row 0 | Column 0: \" + str(multidimensionalList[0][0]))\n",
    "print(\"Row 1 | Column 0: \" + str(multidimensionalList[1][0]))\n",
    "print(\"Row 0 | Column 1: \" + str(multidimensionalList[0][1]))"
   ],
   "id": "33fa8e050c93b09b",
   "outputs": [],
   "execution_count": null
  },
  {
   "metadata": {},
   "cell_type": "markdown",
   "source": "Spliting Lists\n",
   "id": "e2364381efce71f2"
  },
  {
   "metadata": {},
   "cell_type": "code",
   "source": [
    "list = [1, 2, 3, 4, 5]\n",
    "print(list[1:4])\n",
    "print(list[:4])\n",
    "print(list[::2])"
   ],
   "id": "258076511ab5e5c1",
   "outputs": [],
   "execution_count": null
  },
  {
   "metadata": {},
   "cell_type": "markdown",
   "source": "Adding and Removing Elements",
   "id": "7b2ea6ecb4e78754"
  },
  {
   "metadata": {},
   "cell_type": "code",
   "source": [
    "listB = [6, 7, 8, 9]\n",
    "print(\"ListA: \" + str(listA))\n",
    "print(\"ListB: \" + str(listB))\n",
    "print()\n",
    "\n",
    "listB.append(10)\n",
    "print(\"ListB: \" + str(listB))\n",
    "\n",
    "listB.remove(10)\n",
    "print(\"ListB: \" + str(listB))\n",
    "\n",
    "listB.insert(3, 999)\n",
    "print(\"ListB: \" + str(listB))\n",
    "\n",
    "print(\"Popped: \" + str(listB.pop(3)))\n",
    "print(\"ListB: \" + str(listB))\n",
    "\n",
    "listA.extend(listB)\n",
    "print(\"ListA: \" + str(listA))\n",
    "\n",
    "listA.clear()\n",
    "print(\"ListA: \" + str(listA))"
   ],
   "id": "129e30a3f1f742f0",
   "outputs": [],
   "execution_count": null
  },
  {
   "metadata": {},
   "cell_type": "markdown",
   "source": "Manipulation",
   "id": "8e05b5cf7a7a1c86"
  },
  {
   "metadata": {},
   "cell_type": "code",
   "source": [
    "listC = [1, 2, 3, 4, 5, 6, 7, 8, 9]\n",
    "\n",
    "print(str(listC.index(6)))\n",
    "\n",
    "listC.reverse()\n",
    "print(\"ListC: \" + str(listC))\n",
    "\n",
    "listC.sort()\n",
    "print(\"ListC: \" + str(listC))\n",
    "print()\n",
    "print()\n",
    "listD = listC.copy()\n",
    "print(\"ListC: \" + str(listC))\n",
    "print(\"ListD: \" + str(listD))\n",
    "print()\n",
    "listD.pop()\n",
    "print(\"ListC: \" + str(listC))\n",
    "print(\"ListD: \" + str(listD))\n",
    "\n",
    "listD = listC + listD\n",
    "print(\"3s in ListD: \" + str(listD.count(3)))\n",
    "\n",
    "print(str([1] * 3))\n",
    "\n",
    "print(3 in [1, 2, 3])\n",
    "\n",
    "len([1, 2, 3])\n",
    "\n",
    "my_list = [1, 2, 3]\n",
    "\n",
    "for item in my_list:\n",
    "    print(item)\n",
    "\n",
    "# With index\n",
    "for i, value in enumerate(my_list):\n",
    "    print(f\"Index {i}: {value}\")\n",
    "\n",
    "squares = [x**2 for x in range(5)]          # [0, 1, 4, 9, 16]\n",
    "evens = [x for x in range(10) if x % 2 == 0]\n",
    "\n",
    "matrix = [[1, 2], [3, 4]]\n",
    "\n",
    "# Access\n",
    "print(str(matrix[0][1]))   # 2\n",
    "\n",
    "# Flatten\n",
    "flat = [num for row in matrix for num in row]\n",
    "\n",
    "old_list = [5, 6, 7, 8, 9]\n",
    "# Shallow copies (creates new list, but not deep copies)\n",
    "new_list = old_list[:]\n",
    "print(str(old_list))\n",
    "print(str(new_list))\n",
    "new_list = list(old_list)\n",
    "print(str(old_list))\n",
    "print(str(new_list))\n",
    "new_list = old_list.copy()\n",
    "print(str(old_list))\n",
    "print(str(new_list))\n",
    "\n",
    "grid = [[0] * 3 for _ in range(3)] # [[0, 0, 0], [0, 0, 0], [0, 0, 0]]\n",
    "\n",
    "list(\"hello\")        # ['h', 'e', 'l', 'l', 'o']\n",
    "list((1, 2, 3))      # [1, 2, 3]\n",
    "list({1, 2, 3})      # [1, 2, 3] (unordered)"
   ],
   "id": "af2425c5405608dc",
   "outputs": [],
   "execution_count": null
  },
  {
   "metadata": {},
   "cell_type": "markdown",
   "source": "## Tuples",
   "id": "76d19a0616ba905b"
  },
  {
   "metadata": {},
   "cell_type": "code",
   "source": "",
   "id": "303e766f1de16736",
   "outputs": [],
   "execution_count": null
  },
  {
   "metadata": {},
   "cell_type": "markdown",
   "source": "## Dictionaries",
   "id": "c7a126061d11a8bf"
  },
  {
   "metadata": {},
   "cell_type": "code",
   "source": "",
   "id": "fefb05d62468760c",
   "outputs": [],
   "execution_count": null
  },
  {
   "metadata": {},
   "cell_type": "markdown",
   "source": "## Sets",
   "id": "fbcd980cf459631f"
  },
  {
   "metadata": {},
   "cell_type": "code",
   "source": "",
   "id": "82b829639e402610",
   "outputs": [],
   "execution_count": null
  }
 ],
 "metadata": {
  "kernelspec": {
   "display_name": "Python 3",
   "language": "python",
   "name": "python3"
  },
  "language_info": {
   "codemirror_mode": {
    "name": "ipython",
    "version": 2
   },
   "file_extension": ".py",
   "mimetype": "text/x-python",
   "name": "python",
   "nbconvert_exporter": "python",
   "pygments_lexer": "ipython2",
   "version": "2.7.6"
  }
 },
 "nbformat": 4,
 "nbformat_minor": 5
}
